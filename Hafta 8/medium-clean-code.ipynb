{
 "cells": [
  {
   "cell_type": "markdown",
   "metadata": {},
   "source": [
    "Kullanıcıdan aldığınız bir sayının basamaklarının toplamını hesaplayan bir kod parçacığı yazar mısın?\n"
   ]
  },
  {
   "cell_type": "code",
   "execution_count": 8,
   "metadata": {},
   "outputs": [
    {
     "name": "stdout",
     "output_type": "stream",
     "text": [
      "100\n",
      "20\n",
      "3\n",
      "Girilen sayının basamak değerleri ile hesaplanan toplamı: 123\n"
     ]
    }
   ],
   "source": [
    "try:\n",
    "    user_input = int(input(\"Bir sayı girin: \"))\n",
    "    number = abs(user_input)  # Negatif sayıların da işlenebilmesi için mutlak değer alınır\n",
    "    number_str = str(number)\n",
    "    digit_sum = 0\n",
    "    \n",
    "    for i, digit in enumerate(number_str):\n",
    "        weight = int(digit) * 10 ** (len(number_str) - i - 1)\n",
    "        digit_sum += weight\n",
    "        print(weight)\n",
    "    print(f\"Girilen sayının basamak değerleri ile hesaplanan toplamı: {digit_sum}\")\n",
    "except ValueError:\n",
    "    print(\"Geçerli bir sayı girin.\")\n"
   ]
  }
 ],
 "metadata": {
  "kernelspec": {
   "display_name": "Python 3",
   "language": "python",
   "name": "python3"
  },
  "language_info": {
   "codemirror_mode": {
    "name": "ipython",
    "version": 3
   },
   "file_extension": ".py",
   "mimetype": "text/x-python",
   "name": "python",
   "nbconvert_exporter": "python",
   "pygments_lexer": "ipython3",
   "version": "3.10.0"
  },
  "orig_nbformat": 4
 },
 "nbformat": 4,
 "nbformat_minor": 2
}
