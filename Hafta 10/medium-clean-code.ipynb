{
 "cells": [
  {
   "cell_type": "markdown",
   "metadata": {},
   "source": [
    "Bir mağazada bir kitap 80 TL, bir defter 20 TL ve bir kalem 5 TL. Bir müşteri 2 kitap, 3 defter ve 4 kalem aldı. Müşteri ne kadar ödeme yapmalı?\n",
    "\n",
    "🗝️ Bu problemi çözen kodu yazmanı istiyorum🤗"
   ]
  },
  {
   "cell_type": "code",
   "execution_count": 1,
   "metadata": {},
   "outputs": [
    {
     "name": "stdout",
     "output_type": "stream",
     "text": [
      "Müşterinin ödemesi gereken toplam tutar: 240 TL\n"
     ]
    }
   ],
   "source": [
    "# Ürün fiyatları\n",
    "fiyat_kitap = 80\n",
    "fiyat_defter = 20\n",
    "fiyat_kalem = 5\n",
    "\n",
    "# Ürün adetleri\n",
    "adet_kitap = 2\n",
    "adet_defter = 3\n",
    "adet_kalem = 4\n",
    "\n",
    "# Toplam ödeme hesaplaması\n",
    "toplam_odeme = (fiyat_kitap * adet_kitap) + (fiyat_defter * adet_defter) + (fiyat_kalem * adet_kalem)\n",
    "\n",
    "print(f\"Müşterinin ödemesi gereken toplam tutar: {toplam_odeme} TL\")\n"
   ]
  }
 ],
 "metadata": {
  "kernelspec": {
   "display_name": "Python 3",
   "language": "python",
   "name": "python3"
  },
  "language_info": {
   "codemirror_mode": {
    "name": "ipython",
    "version": 3
   },
   "file_extension": ".py",
   "mimetype": "text/x-python",
   "name": "python",
   "nbconvert_exporter": "python",
   "pygments_lexer": "ipython3",
   "version": "3.10.0"
  },
  "orig_nbformat": 4
 },
 "nbformat": 4,
 "nbformat_minor": 2
}
