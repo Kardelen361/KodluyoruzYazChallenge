{
 "cells": [
  {
   "cell_type": "markdown",
   "metadata": {},
   "source": [
    "Bir futbol maçında 3 puanlık atışlarda 5 kez isabet edildi, 2 puanlık atışlarda ise 10 kez isabet edildi. Toplam kaç puan elde edildi?\n",
    "\n",
    "🗝️ Bu problemi çözen kodu yazmanı istiyorum🤗"
   ]
  },
  {
   "cell_type": "code",
   "execution_count": 1,
   "metadata": {},
   "outputs": [
    {
     "name": "stdout",
     "output_type": "stream",
     "text": [
      "Toplam elde edilen puan: 35\n"
     ]
    }
   ],
   "source": [
    "# İsabet edilen atışların sayıları\n",
    "isabet_3_puan = 5\n",
    "isabet_2_puan = 10\n",
    "\n",
    "# Atışların puan değerleri\n",
    "puan_3 = 3\n",
    "puan_2 = 2\n",
    "\n",
    "# Toplam puan hesaplaması\n",
    "toplam_puan = (isabet_3_puan * puan_3) + (isabet_2_puan * puan_2)\n",
    "\n",
    "print(f\"Toplam elde edilen puan: {toplam_puan}\")\n"
   ]
  }
 ],
 "metadata": {
  "kernelspec": {
   "display_name": "Python 3",
   "language": "python",
   "name": "python3"
  },
  "language_info": {
   "codemirror_mode": {
    "name": "ipython",
    "version": 3
   },
   "file_extension": ".py",
   "mimetype": "text/x-python",
   "name": "python",
   "nbconvert_exporter": "python",
   "pygments_lexer": "ipython3",
   "version": "3.10.0"
  },
  "orig_nbformat": 4
 },
 "nbformat": 4,
 "nbformat_minor": 2
}
