{
 "cells": [
  {
   "cell_type": "markdown",
   "metadata": {},
   "source": [
    "Bir araba saatte 60 km hızla hareket ediyor. Bu araba kaç saatte 240 km yol alır?"
   ]
  },
  {
   "cell_type": "code",
   "execution_count": 1,
   "metadata": {},
   "outputs": [
    {
     "name": "stdout",
     "output_type": "stream",
     "text": [
      "Araba 240 km'de 60.0 km/saat hızla 4.0 saatte yol alır\n"
     ]
    }
   ],
   "source": [
    "# x = yol\n",
    "# v = hız\n",
    "# t = zaman\n",
    "x = int(input(\"Lütfen arabanın ne kadar yol aldığını km cinsinden yazınız:\"))\n",
    "v = float(input(\"Lütfen arabının saatte kaç km/saat hızla hareket ettiğini yazınız:\"))\n",
    "t = x / v\n",
    "print(f\"Araba {x} km'de {v} km/saat hızla {t} saatte yol alır.\")"
   ]
  }
 ],
 "metadata": {
  "kernelspec": {
   "display_name": "Python 3",
   "language": "python",
   "name": "python3"
  },
  "language_info": {
   "codemirror_mode": {
    "name": "ipython",
    "version": 3
   },
   "file_extension": ".py",
   "mimetype": "text/x-python",
   "name": "python",
   "nbconvert_exporter": "python",
   "pygments_lexer": "ipython3",
   "version": "3.11.4"
  },
  "orig_nbformat": 4
 },
 "nbformat": 4,
 "nbformat_minor": 2
}
