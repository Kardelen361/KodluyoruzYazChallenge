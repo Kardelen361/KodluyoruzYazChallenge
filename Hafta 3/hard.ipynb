{
 "cells": [
  {
   "cell_type": "markdown",
   "metadata": {},
   "source": [
    "Bir yüzme havuzunda 2 adet su girişi, 1 adet su çıkışı vardır. İlk su girişi havuzu 10 saatte doldururken, ikinci su girişi havuzu 15 saatte doldurmaktadır. Havuzun kendiliğinden boşalma hızı ise 30 saatte bir doludur. Eğer havuz boşken, her iki su girişi de açılırsa havuz ne kadar sürede dolar?"
   ]
  },
  {
   "cell_type": "code",
   "execution_count": 1,
   "metadata": {},
   "outputs": [
    {
     "name": "stdout",
     "output_type": "stream",
     "text": [
      "Havuz 7.499999999999998 saatte dolacaktır.\n"
     ]
    }
   ],
   "source": [
    "# Su girişi iş birimleri\n",
    "giris1_hiz = 1/10\n",
    "giris2_hiz = 1/15\n",
    "bosaltma_hiz = -1/30\n",
    "\n",
    "# Toplam iş birimi\n",
    "toplam_is_birimi = giris1_hiz + giris2_hiz + bosaltma_hiz\n",
    "\n",
    "# Havuzun dolma süresi\n",
    "dolma_suresi = 1 / toplam_is_birimi\n",
    "\n",
    "print(\"Havuz\", dolma_suresi, \"saatte dolacaktır.\")\n"
   ]
  }
 ],
 "metadata": {
  "kernelspec": {
   "display_name": "Python 3",
   "language": "python",
   "name": "python3"
  },
  "language_info": {
   "codemirror_mode": {
    "name": "ipython",
    "version": 3
   },
   "file_extension": ".py",
   "mimetype": "text/x-python",
   "name": "python",
   "nbconvert_exporter": "python",
   "pygments_lexer": "ipython3",
   "version": "3.11.4"
  },
  "orig_nbformat": 4
 },
 "nbformat": 4,
 "nbformat_minor": 2
}
