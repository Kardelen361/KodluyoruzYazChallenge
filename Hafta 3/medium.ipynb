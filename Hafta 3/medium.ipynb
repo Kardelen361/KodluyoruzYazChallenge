{
 "cells": [
  {
   "cell_type": "markdown",
   "metadata": {},
   "source": [
    "Bir çiftlikte toplamda 36 baş tavuk ve koyun bulunmaktadır. Bu hayvanlardan toplamda 100 bacak çıkmaktadır. Çiftlikte kaçar tane tavuk ve koyun olduğunu bulan kod parçacığını yazar mısın?"
   ]
  },
  {
   "cell_type": "code",
   "execution_count": 7,
   "metadata": {},
   "outputs": [
    {
     "name": "stdout",
     "output_type": "stream",
     "text": [
      "Tavuk sayısı: 22\n",
      "Koyun sayısı: 14\n"
     ]
    }
   ],
   "source": [
    "\n",
    "from sympy import symbols, Eq, solve\n",
    "\n",
    "t, k = symbols('t k')\n",
    "\n",
    "# Denklemler\n",
    "denklem1 = Eq(t + k, 36)\n",
    "denklem2 = Eq(2*t + 4*k, 100)\n",
    "\n",
    "# Denklem sistemini çöz\n",
    "cozum = solve((denklem1, denklem2), (t, k))\n",
    "\n",
    "tavuk_sayisi = cozum[t]\n",
    "koyun_sayisi = cozum[k]\n",
    "\n",
    "print(\"Tavuk sayısı:\", tavuk_sayisi)\n",
    "print(\"Koyun sayısı:\", koyun_sayisi)\n",
    "\n"
   ]
  }
 ],
 "metadata": {
  "kernelspec": {
   "display_name": "Python 3",
   "language": "python",
   "name": "python3"
  },
  "language_info": {
   "codemirror_mode": {
    "name": "ipython",
    "version": 3
   },
   "file_extension": ".py",
   "mimetype": "text/x-python",
   "name": "python",
   "nbconvert_exporter": "python",
   "pygments_lexer": "ipython3",
   "version": "3.11.4"
  },
  "orig_nbformat": 4
 },
 "nbformat": 4,
 "nbformat_minor": 2
}
