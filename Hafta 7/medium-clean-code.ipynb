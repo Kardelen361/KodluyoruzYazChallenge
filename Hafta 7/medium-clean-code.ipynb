{
 "cells": [
  {
   "cell_type": "markdown",
   "metadata": {},
   "source": [
    "Oluşturduğunuz bir dizinin medyanını hesaplayan bir kod parçacığı yazar mısınız?\n",
    "🗝️ Medyan: Dizideki sayıları sıralandığında ortada bulunan değer.🤗"
   ]
  },
  {
   "cell_type": "code",
   "execution_count": 1,
   "metadata": {},
   "outputs": [
    {
     "name": "stdout",
     "output_type": "stream",
     "text": [
      "Dizinin medyanı: 2.5\n"
     ]
    }
   ],
   "source": [
    "def calculate_median(numbers):\n",
    "    #Verilen sayı dizisinin medyanını hesaplar.\n",
    "    sorted_numbers = sorted(numbers)\n",
    "    length = len(sorted_numbers)\n",
    "    \n",
    "    if length % 2 == 1:\n",
    "        median = sorted_numbers[length // 2]\n",
    "    else:\n",
    "        middle1 = sorted_numbers[length // 2 - 1]\n",
    "        middle2 = sorted_numbers[length // 2]\n",
    "        median = (middle1 + middle2) / 2\n",
    "    \n",
    "    return median\n",
    "\n",
    "try:\n",
    "    user_input = input(\"Sayıları aralarında boşluk bırakarak girin: \")\n",
    "    number_list = [float(num) for num in user_input.split()]\n",
    "    \n",
    "    median = calculate_median(number_list)\n",
    "    print(f\"Dizinin medyanı: {median}\")\n",
    "except ValueError:\n",
    "    print(\"Geçerli sayıları doğru formatta girdiğinizden emin olun.\")\n"
   ]
  }
 ],
 "metadata": {
  "kernelspec": {
   "display_name": "Python 3",
   "language": "python",
   "name": "python3"
  },
  "language_info": {
   "codemirror_mode": {
    "name": "ipython",
    "version": 3
   },
   "file_extension": ".py",
   "mimetype": "text/x-python",
   "name": "python",
   "nbconvert_exporter": "python",
   "pygments_lexer": "ipython3",
   "version": "3.11.4"
  },
  "orig_nbformat": 4
 },
 "nbformat": 4,
 "nbformat_minor": 2
}
