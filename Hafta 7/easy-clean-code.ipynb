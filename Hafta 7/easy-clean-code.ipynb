{
 "cells": [
  {
   "cell_type": "markdown",
   "metadata": {},
   "source": [
    "Kullanıcıdan aldığın sayının karesini hesaplayarak ekrana yazdıran kod parçacığını yazar mısın?"
   ]
  },
  {
   "cell_type": "code",
   "execution_count": 1,
   "metadata": {},
   "outputs": [
    {
     "name": "stdout",
     "output_type": "stream",
     "text": [
      "Girdiğiniz sayının karesi: 4.0\n"
     ]
    }
   ],
   "source": [
    "try:\n",
    "    user_input = float(input(\"Bir sayı girin: \"))  # Kullanıcının girdisi alınıyor ve float'a çevriliyor\n",
    "    square = user_input ** 2  # Kullanıcının girdisinin karesi hesaplanıyor\n",
    "    print(f\"Girdiğiniz sayının karesi: {square}\")\n",
    "except ValueError:\n",
    "    print(\"Geçerli bir sayı girin.\")\n"
   ]
  }
 ],
 "metadata": {
  "kernelspec": {
   "display_name": "Python 3",
   "language": "python",
   "name": "python3"
  },
  "language_info": {
   "codemirror_mode": {
    "name": "ipython",
    "version": 3
   },
   "file_extension": ".py",
   "mimetype": "text/x-python",
   "name": "python",
   "nbconvert_exporter": "python",
   "pygments_lexer": "ipython3",
   "version": "3.11.4"
  },
  "orig_nbformat": 4
 },
 "nbformat": 4,
 "nbformat_minor": 2
}
