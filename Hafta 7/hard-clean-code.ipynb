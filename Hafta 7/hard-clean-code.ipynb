{
 "cells": [
  {
   "cell_type": "markdown",
   "metadata": {},
   "source": [
    "Kullanıcıdan aldığınız bir sayının Armstrong sayısı olup olmadığını kontrol eden bir kod parçacığı yazar mısınız? (Armstrong sayısı: Basamaklarının üçüncü kuvvetinin toplamı, sayıya eşit olan sayılardır.)\n",
    "🗝️ 407 için = (4*4*4)+(7*7*7)=407 bir armstrong sayısıdır.🤗"
   ]
  },
  {
   "cell_type": "code",
   "execution_count": 1,
   "metadata": {},
   "outputs": [
    {
     "name": "stdout",
     "output_type": "stream",
     "text": [
      "2 bir Armstrong sayısıdır.\n"
     ]
    }
   ],
   "source": [
    "def is_armstrong_number(number):\n",
    "    #Verilen sayının Armstrong sayısı olup olmadığını kontrol eder.\n",
    "    num_str = str(number)\n",
    "    power = len(num_str)\n",
    "    total = sum(int(digit) ** power for digit in num_str)\n",
    "    return total == number\n",
    "\n",
    "try:\n",
    "    user_input = int(input(\"Bir sayı girin: \"))\n",
    "    \n",
    "    if is_armstrong_number(user_input):\n",
    "        print(f\"{user_input} bir Armstrong sayısıdır.\")\n",
    "    else:\n",
    "        print(f\"{user_input} bir Armstrong sayısı değildir.\")\n",
    "except ValueError:\n",
    "    print(\"Geçerli bir sayı girin.\")\n"
   ]
  }
 ],
 "metadata": {
  "kernelspec": {
   "display_name": "Python 3",
   "language": "python",
   "name": "python3"
  },
  "language_info": {
   "codemirror_mode": {
    "name": "ipython",
    "version": 3
   },
   "file_extension": ".py",
   "mimetype": "text/x-python",
   "name": "python",
   "nbconvert_exporter": "python",
   "pygments_lexer": "ipython3",
   "version": "3.11.4"
  },
  "orig_nbformat": 4
 },
 "nbformat": 4,
 "nbformat_minor": 2
}
