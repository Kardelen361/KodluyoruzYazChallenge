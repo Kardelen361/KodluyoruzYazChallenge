{
 "cells": [
  {
   "cell_type": "markdown",
   "metadata": {},
   "source": [
    "Kullanıcıdan bir cümle girmesini ve bu cümlenin içinde ikileme olup olmadığını bulan bir kod parçası yazmanızı istiyorum.😀(Not: burada ikilemeleri sadece arka arkaya yazılmış aynı kelimeler olarak düşünmenizi istiyorum.)\n"
   ]
  },
  {
   "cell_type": "code",
   "execution_count": 6,
   "metadata": {},
   "outputs": [
    {
     "name": "stdout",
     "output_type": "stream",
     "text": [
      "at ağır ağır ilerliyordu.\n",
      "Girilen cümlede ikileme bulunuyor.\n"
     ]
    }
   ],
   "source": [
    "def check_repetition(sentence):\n",
    "    #Verilen cümlede ikileme olup olmadığını kontrol eder.\n",
    "    words = sentence.lower().split()\n",
    "    for i in range(len(words) - 1):\n",
    "        if words[i] == words[i + 1]:\n",
    "            return True\n",
    "    return False\n",
    "\n",
    "try:\n",
    "    user_input = input(\"Bir cümle girin: \")\n",
    "    print(user_input)\n",
    "    has_repetition = check_repetition(user_input)\n",
    "    \n",
    "    if has_repetition:\n",
    "        print(\"Girilen cümlede ikileme bulunuyor.\")\n",
    "    else:\n",
    "        print(\"Girilen cümlede ikileme bulunmuyor.\")\n",
    "except ValueError:\n",
    "    print(\"Geçerli bir cümle girdiğinizden emin olun.\")\n"
   ]
  }
 ],
 "metadata": {
  "kernelspec": {
   "display_name": "Python 3",
   "language": "python",
   "name": "python3"
  },
  "language_info": {
   "codemirror_mode": {
    "name": "ipython",
    "version": 3
   },
   "file_extension": ".py",
   "mimetype": "text/x-python",
   "name": "python",
   "nbconvert_exporter": "python",
   "pygments_lexer": "ipython3",
   "version": "3.11.4"
  },
  "orig_nbformat": 4
 },
 "nbformat": 4,
 "nbformat_minor": 2
}
