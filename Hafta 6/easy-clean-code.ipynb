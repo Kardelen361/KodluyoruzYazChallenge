{
 "cells": [
  {
   "cell_type": "markdown",
   "metadata": {},
   "source": [
    "Kullanıcıdan aldığınız sayının tek mi çift mi olduğunu ekrana yazdıran bir kod parçacığı yazar mısın?\n"
   ]
  },
  {
   "cell_type": "code",
   "execution_count": 1,
   "metadata": {},
   "outputs": [
    {
     "name": "stdout",
     "output_type": "stream",
     "text": [
      "4 çift bir sayıdır.\n"
     ]
    }
   ],
   "source": [
    "try:\n",
    "    user_input = int(input(\"Bir sayı girin: \"))\n",
    "    if user_input % 2 == 0:\n",
    "        print(f\"{user_input} çift bir sayıdır.\")\n",
    "    else:\n",
    "        print(f\"{user_input} tek bir sayıdır.\")\n",
    "except ValueError:\n",
    "    print(\"Lütfen geçerli bir sayı girin.\")\n"
   ]
  }
 ],
 "metadata": {
  "kernelspec": {
   "display_name": "Python 3",
   "language": "python",
   "name": "python3"
  },
  "language_info": {
   "codemirror_mode": {
    "name": "ipython",
    "version": 3
   },
   "file_extension": ".py",
   "mimetype": "text/x-python",
   "name": "python",
   "nbconvert_exporter": "python",
   "pygments_lexer": "ipython3",
   "version": "3.11.4"
  },
  "orig_nbformat": 4
 },
 "nbformat": 4,
 "nbformat_minor": 2
}
