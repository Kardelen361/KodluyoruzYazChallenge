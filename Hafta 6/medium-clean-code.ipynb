{
 "cells": [
  {
   "cell_type": "markdown",
   "metadata": {},
   "source": [
    "Bir dizi oluşturup içindeki çift sayıların toplamını hesaplayan bir kod parçacığı yazar mısınız?\n"
   ]
  },
  {
   "cell_type": "code",
   "execution_count": 7,
   "metadata": {},
   "outputs": [
    {
     "name": "stdout",
     "output_type": "stream",
     "text": [
      "[1, 2, 3, 4, 5]\n",
      "Çift sayıların toplamı: 6\n"
     ]
    }
   ],
   "source": [
    "def calculate_even_sum(numbers):\n",
    "    #Verilen sayı dizisinin içindeki çift sayıların toplamını hesaplar.\n",
    "    for i in numbers:\n",
    "        if i <= 0:\n",
    "            raise ValueError(\"Lütfen sadece pozitif sayılardan oluşan bir dizi giriniz.\")\n",
    "        \n",
    "    even_sum = 0\n",
    "    for num in numbers:\n",
    "        if num % 2 == 0:\n",
    "            even_sum += num\n",
    "    return even_sum\n",
    "\n",
    "try:\n",
    "    user_input = input(\"Sayıları aralarında boşluk bırakarak girin: \")\n",
    "    number_list = [int(num) for num in user_input.split()]\n",
    "    print(number_list)\n",
    "    even_sum = calculate_even_sum(number_list)\n",
    "    print(f\"Çift sayıların toplamı: {even_sum}\")\n",
    "except ValueError:\n",
    "    print(\"Geçerli sayıları doğru formatta girdiğinizden emin olun.\")\n"
   ]
  }
 ],
 "metadata": {
  "kernelspec": {
   "display_name": "Python 3",
   "language": "python",
   "name": "python3"
  },
  "language_info": {
   "codemirror_mode": {
    "name": "ipython",
    "version": 3
   },
   "file_extension": ".py",
   "mimetype": "text/x-python",
   "name": "python",
   "nbconvert_exporter": "python",
   "pygments_lexer": "ipython3",
   "version": "3.11.4"
  },
  "orig_nbformat": 4
 },
 "nbformat": 4,
 "nbformat_minor": 2
}
