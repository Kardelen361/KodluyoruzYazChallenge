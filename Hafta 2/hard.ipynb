{
 "cells": [
  {
   "cell_type": "markdown",
   "metadata": {},
   "source": [
    "💪🏻Hard: Bir şirket, bir ürünü üretmek ve satmak için belirli bir maliyet ve satış fiyatı hesaplamaktadır. Şirketin bir ürün için birim maliyeti ve birim satış fiyatı verildiğinde, kaç adet ürünün satılması durumunda şirketin kar edeceğini bulmanı istiyorum. Sakin ol şimdi biraz daha detaylandıracağım 😀\n",
    "\n",
    "🗝️ Bir adet cost ve price değişkeni oluşturmalısın. Bunları kullanıcıdan istemene gerek yok. Örneğin cost:100 price:150 olması durumunda 3 ürün satıldığında kâr edilmeye başlanmış olur. Cost price’dan her zaman düşük olmalıdır, eğer aynı veya yüksek olursa  kâr edilemez uyarısı dönmelidir."
   ]
  },
  {
   "cell_type": "code",
   "execution_count": 90,
   "metadata": {},
   "outputs": [
    {
     "name": "stdout",
     "output_type": "stream",
     "text": [
      "Cost: 100, Price: 150 için kar edilecek adet: 3\n"
     ]
    }
   ],
   "source": [
    "def kar_hesapla(cost, price):\n",
    "    if cost >= price:\n",
    "        return \"Cost fiyatı price'dan büyük veya eşit olmamalıdır. Kar edilemez.\"\n",
    "\n",
    "    kar = price - cost\n",
    "    urun_sayisi = int(input(\"Lütfen ürün sayısını giriniz:\"))\n",
    "\n",
    "    for i in range(1,urun_sayisi + 1):\n",
    "        if kar * i == price :\n",
    "            return i\n",
    "\n",
    "        \n",
    "\n",
    "\n",
    "# Örnek olarak cost: 100, price: 150 için kar edilecek adedi hesaplayalım\n",
    "cost = 100\n",
    "price = 150\n",
    "kar_adedi = kar_hesapla(cost, price)\n",
    "print(f\"Cost: {cost}, Price: {price} için kar edilecek adet: {kar_adedi}\")\n"
   ]
  }
 ],
 "metadata": {
  "kernelspec": {
   "display_name": "Python 3",
   "language": "python",
   "name": "python3"
  },
  "language_info": {
   "codemirror_mode": {
    "name": "ipython",
    "version": 3
   },
   "file_extension": ".py",
   "mimetype": "text/x-python",
   "name": "python",
   "nbconvert_exporter": "python",
   "pygments_lexer": "ipython3",
   "version": "3.10.0"
  },
  "orig_nbformat": 4
 },
 "nbformat": 4,
 "nbformat_minor": 2
}
