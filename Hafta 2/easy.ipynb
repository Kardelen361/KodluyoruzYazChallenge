{
 "cells": [
  {
   "cell_type": "markdown",
   "metadata": {},
   "source": [
    " Kullanıcıdan bir sayı almanızı ve bu sayının asal olup olmadığını kullanıcıya söylemenizi istiyorum. "
   ]
  },
  {
   "cell_type": "code",
   "execution_count": 1,
   "metadata": {},
   "outputs": [
    {
     "name": "stdout",
     "output_type": "stream",
     "text": [
      "14 bir asal sayı değildir.\n"
     ]
    }
   ],
   "source": [
    "def asal_mi(sayi):\n",
    "    if sayi <= 1:\n",
    "        return False\n",
    "    if sayi == 2:\n",
    "        return True\n",
    "\n",
    "    for i in range(2, int(sayi ** 0.5) + 1):\n",
    "        if sayi % i == 0:\n",
    "            return False\n",
    "    return True\n",
    "\n",
    "def main():\n",
    "    try:\n",
    "        sayi = int(input(\"Bir sayı girin: \"))\n",
    "        if asal_mi(sayi):\n",
    "            print(sayi, \"bir asal sayıdır.\")\n",
    "        else:\n",
    "            print(sayi, \"bir asal sayı değildir.\")\n",
    "    except ValueError:\n",
    "        print(\"Geçersiz giriş. Lütfen bir tam sayı girin.\")\n",
    "\n",
    "\n",
    "if __name__ == \"__main__\":\n",
    "    main()"
   ]
  }
 ],
 "metadata": {
  "kernelspec": {
   "display_name": "Python 3",
   "language": "python",
   "name": "python3"
  },
  "language_info": {
   "codemirror_mode": {
    "name": "ipython",
    "version": 3
   },
   "file_extension": ".py",
   "mimetype": "text/x-python",
   "name": "python",
   "nbconvert_exporter": "python",
   "pygments_lexer": "ipython3",
   "version": "3.10.0"
  },
  "orig_nbformat": 4
 },
 "nbformat": 4,
 "nbformat_minor": 2
}
