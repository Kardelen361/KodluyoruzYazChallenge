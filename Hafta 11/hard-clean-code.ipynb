{
 "cells": [
  {
   "cell_type": "markdown",
   "metadata": {},
   "source": [
    "Bir yarış pistinde iki yarışmacı aynı anda start alıyor. İlk yarışmacı saatte 15 km hızla, ikinci yarışmacı ise saatte 20 km hızla koşuyor. İkinci yarışmacı kaç saat sonra ilk yarışmacıyı yakalar?😀🗝️ Bu problemi çözen kodu yazmanı istiyorum🤗\n"
   ]
  },
  {
   "cell_type": "code",
   "execution_count": 3,
   "metadata": {},
   "outputs": [
    {
     "name": "stdout",
     "output_type": "stream",
     "text": [
      "Ikinci yarışmacı ilk yarışmacıyı 0 saat sonra yakalar.\n"
     ]
    }
   ],
   "source": [
    "ilk_yarismaci_hiz = 15  # km/saat\n",
    "ikinci_yarismaci_hiz = 20  # km/saat\n",
    "\n",
    "# İkinci yarışmacının ilk yarışmacıyı yakaladığı süreyi hesapla\n",
    "yakalama_suresi = 0\n",
    "while True:\n",
    "    # İkinci yarışmacının katettiği mesafe\n",
    "    ikinci_yarismaci_mesafe = ikinci_yarismaci_hiz * yakalama_suresi\n",
    "    # İlk yarışmacının katettiği mesafe\n",
    "    ilk_yarismaci_mesafe = ilk_yarismaci_hiz * yakalama_suresi\n",
    "    \n",
    "    if ikinci_yarismaci_mesafe >= ilk_yarismaci_mesafe:\n",
    "        break\n",
    "    \n",
    "    yakalama_suresi += 1\n",
    "\n",
    "print(f\"Ikinci yarışmacı ilk yarışmacıyı {yakalama_suresi} saat sonra yakalar.\")\n"
   ]
  }
 ],
 "metadata": {
  "kernelspec": {
   "display_name": "Python 3",
   "language": "python",
   "name": "python3"
  },
  "language_info": {
   "codemirror_mode": {
    "name": "ipython",
    "version": 3
   },
   "file_extension": ".py",
   "mimetype": "text/x-python",
   "name": "python",
   "nbconvert_exporter": "python",
   "pygments_lexer": "ipython3",
   "version": "3.10.0"
  },
  "orig_nbformat": 4
 },
 "nbformat": 4,
 "nbformat_minor": 2
}
