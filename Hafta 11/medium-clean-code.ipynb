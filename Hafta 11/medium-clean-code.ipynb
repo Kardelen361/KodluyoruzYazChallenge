{
 "cells": [
  {
   "cell_type": "markdown",
   "metadata": {},
   "source": [
    "Bir öğrenci kitap okuma hedefi olarak yılda 36 kitap okumayı belirledi. Eğer her ay eşit sayıda kitap okursa kaç kitap okumuş olur?\n",
    "\n",
    "🗝️ Bu problemi çözen kodu yazmanı istiyorum🤗"
   ]
  },
  {
   "cell_type": "code",
   "execution_count": 1,
   "metadata": {},
   "outputs": [
    {
     "name": "stdout",
     "output_type": "stream",
     "text": [
      "Her ay 3.0 kitap okumalı.\n"
     ]
    }
   ],
   "source": [
    "yillik_hedef = 36\n",
    "ay_sayisi = 12\n",
    "\n",
    "kitap_per_ay = yillik_hedef / ay_sayisi\n",
    "\n",
    "print(f\"Her ay {kitap_per_ay} kitap okumalı.\")\n"
   ]
  }
 ],
 "metadata": {
  "kernelspec": {
   "display_name": "Python 3",
   "language": "python",
   "name": "python3"
  },
  "language_info": {
   "codemirror_mode": {
    "name": "ipython",
    "version": 3
   },
   "file_extension": ".py",
   "mimetype": "text/x-python",
   "name": "python",
   "nbconvert_exporter": "python",
   "pygments_lexer": "ipython3",
   "version": "3.10.0"
  },
  "orig_nbformat": 4
 },
 "nbformat": 4,
 "nbformat_minor": 2
}
