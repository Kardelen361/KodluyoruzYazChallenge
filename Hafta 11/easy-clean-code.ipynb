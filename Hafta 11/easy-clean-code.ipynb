{
 "cells": [
  {
   "cell_type": "markdown",
   "metadata": {},
   "source": [
    "Bir kutuda 5 kırmızı, 4 yeşil ve 3 mavi top bulunuyor. Kutudan rastgele çekilen 2 topun aynı renk olma olasılığı nedir?\n",
    "\n",
    "🗝️ Bu problemi çözen kodu yazmanı istiyorum🤗"
   ]
  },
  {
   "cell_type": "code",
   "execution_count": 1,
   "metadata": {},
   "outputs": [
    {
     "name": "stdout",
     "output_type": "stream",
     "text": [
      "Aynı renkte 2 top çekme olasılığı: 0.2879\n"
     ]
    }
   ],
   "source": [
    "total_balls = 5 + 4 + 3\n",
    "total_combinations = total_balls * (total_balls - 1)\n",
    "\n",
    "red_prob = (5 / total_balls) * (4 / (total_balls - 1))\n",
    "green_prob = (4 / total_balls) * (3 / (total_balls - 1))\n",
    "blue_prob = (3 / total_balls) * (2 / (total_balls - 1))\n",
    "\n",
    "same_color_prob = red_prob + green_prob + blue_prob\n",
    "\n",
    "print(f\"Aynı renkte 2 top çekme olasılığı: {same_color_prob:.4f}\")\n"
   ]
  }
 ],
 "metadata": {
  "kernelspec": {
   "display_name": "Python 3",
   "language": "python",
   "name": "python3"
  },
  "language_info": {
   "codemirror_mode": {
    "name": "ipython",
    "version": 3
   },
   "file_extension": ".py",
   "mimetype": "text/x-python",
   "name": "python",
   "nbconvert_exporter": "python",
   "pygments_lexer": "ipython3",
   "version": "3.10.0"
  },
  "orig_nbformat": 4
 },
 "nbformat": 4,
 "nbformat_minor": 2
}
