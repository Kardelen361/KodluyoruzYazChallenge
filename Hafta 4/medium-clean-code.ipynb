{
 "cells": [
  {
   "cell_type": "markdown",
   "metadata": {},
   "source": [
    "Bir dizi oluşturup bu sayıların ortalamasını hesaplayan bir kod parçacığı yazar mısın?\n"
   ]
  },
  {
   "cell_type": "code",
   "execution_count": 3,
   "metadata": {},
   "outputs": [
    {
     "name": "stdout",
     "output_type": "stream",
     "text": [
      "Girilen sayıların ortalaması: 3.5\n"
     ]
    }
   ],
   "source": [
    "def calculate_average(numbers):\n",
    "    #Verilen sayı dizisinin ortalamasını hesaplar.\n",
    "    if not numbers:\n",
    "        raise ValueError(\"Boş bir dizi verildi.\")\n",
    "    \n",
    "    total = sum(numbers)\n",
    "    average = total / len(numbers)\n",
    "    return average\n",
    "\n",
    "try:\n",
    "    user_input = input(\"Sayılar arasında boşluk bırakarak girin: \")\n",
    "    numbers = [int(num) for num in user_input.split()]\n",
    "    result = calculate_average(numbers)\n",
    "    print(f\"Girilen sayıların ortalaması: {result}\")\n",
    "except ValueError:\n",
    "    print(\"Geçerli sayıları doğru formatta girdiğinizden emin olun.\")\n"
   ]
  }
 ],
 "metadata": {
  "kernelspec": {
   "display_name": "Python 3",
   "language": "python",
   "name": "python3"
  },
  "language_info": {
   "codemirror_mode": {
    "name": "ipython",
    "version": 3
   },
   "file_extension": ".py",
   "mimetype": "text/x-python",
   "name": "python",
   "nbconvert_exporter": "python",
   "pygments_lexer": "ipython3",
   "version": "3.11.4"
  },
  "orig_nbformat": 4
 },
 "nbformat": 4,
 "nbformat_minor": 2
}
