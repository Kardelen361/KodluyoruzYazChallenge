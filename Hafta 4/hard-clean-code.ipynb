{
 "cells": [
  {
   "cell_type": "markdown",
   "metadata": {},
   "source": [
    "Bir sıralanmış dizide (örneğin, artan sırada) hedef bir sayının kaç kez tekrar ettiğini bulan bir kod parçacığı yazar mısın?\n"
   ]
  },
  {
   "cell_type": "code",
   "execution_count": 1,
   "metadata": {},
   "outputs": [
    {
     "name": "stdout",
     "output_type": "stream",
     "text": [
      "Hedef sayı 1 kez tekrar ediyor.\n"
     ]
    }
   ],
   "source": [
    "def count_occurrences(sorted_list, target):\n",
    "    #Sıralı bir dizide hedef sayının kaç kez tekrar ettiğini hesaplar.\n",
    "    count = 0\n",
    "    for num in sorted_list:\n",
    "        if num == target:\n",
    "            count += 1\n",
    "        elif num > target:\n",
    "            break  # Dizi sıralı olduğu için daha büyük sayıları kontrol etmeye gerek yok\n",
    "    return count\n",
    "\n",
    "try:\n",
    "    user_input = input(\"Sıralı diziyi aralarında boşluk bırakarak girin: \")\n",
    "    sorted_numbers = [int(num) for num in user_input.split()]\n",
    "    target_number = int(input(\"Hedef sayıyı girin: \"))\n",
    "    \n",
    "    result = count_occurrences(sorted_numbers, target_number)\n",
    "    print(f\"Hedef sayı {result} kez tekrar ediyor.\")\n",
    "except ValueError:\n",
    "    print(\"Geçerli sayıları doğru formatta girdiğinizden emin olun.\")\n"
   ]
  }
 ],
 "metadata": {
  "kernelspec": {
   "display_name": "Python 3",
   "language": "python",
   "name": "python3"
  },
  "language_info": {
   "codemirror_mode": {
    "name": "ipython",
    "version": 3
   },
   "file_extension": ".py",
   "mimetype": "text/x-python",
   "name": "python",
   "nbconvert_exporter": "python",
   "pygments_lexer": "ipython3",
   "version": "3.11.4"
  },
  "orig_nbformat": 4
 },
 "nbformat": 4,
 "nbformat_minor": 2
}
