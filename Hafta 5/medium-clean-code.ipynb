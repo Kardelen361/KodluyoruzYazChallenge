{
 "cells": [
  {
   "cell_type": "markdown",
   "metadata": {},
   "source": [
    "Bir dizi oluşturup içindeki sayıların en büyük ve en küçük değerlerini bulan ve ekrana yazdıran bir kod parçacığı yazar mısınız?\n"
   ]
  },
  {
   "cell_type": "code",
   "execution_count": 1,
   "metadata": {},
   "outputs": [
    {
     "name": "stdout",
     "output_type": "stream",
     "text": [
      "[1, 2, 3, 4, 5]\n",
      "En küçük sayı: 1\n",
      "En büyük sayı: 5\n"
     ]
    }
   ],
   "source": [
    "def find_min_max(numbers):\n",
    "    #Verilen sayı dizisinin en küçük ve en büyük sayılarını bulur.\n",
    "    if not numbers:\n",
    "        raise ValueError(\"Boş bir dizi verildi.\")\n",
    "    \n",
    "    min_value = min(numbers)\n",
    "    max_value = max(numbers)\n",
    "    return min_value, max_value\n",
    "\n",
    "try:\n",
    "    user_input = input(\"Sayıları aralarında boşluk bırakarak girin: \")\n",
    "    number_list = [int(num) for num in user_input.split()]\n",
    "    print(number_list)\n",
    "    min_number, max_number = find_min_max(number_list)\n",
    "    print(f\"En küçük sayı: {min_number}\")\n",
    "    print(f\"En büyük sayı: {max_number}\")\n",
    "except ValueError:\n",
    "    print(\"Geçerli sayıları doğru formatta girdiğinizden emin olun.\")\n"
   ]
  }
 ],
 "metadata": {
  "kernelspec": {
   "display_name": "Python 3",
   "language": "python",
   "name": "python3"
  },
  "language_info": {
   "codemirror_mode": {
    "name": "ipython",
    "version": 3
   },
   "file_extension": ".py",
   "mimetype": "text/x-python",
   "name": "python",
   "nbconvert_exporter": "python",
   "pygments_lexer": "ipython3",
   "version": "3.11.4"
  },
  "orig_nbformat": 4
 },
 "nbformat": 4,
 "nbformat_minor": 2
}
