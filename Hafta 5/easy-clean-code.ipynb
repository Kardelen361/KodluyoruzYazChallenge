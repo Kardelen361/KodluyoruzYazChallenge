{
 "cells": [
  {
   "cell_type": "markdown",
   "metadata": {},
   "source": [
    "Bir dizi tanımladıktan sonra bu dizinin içinden en büyük sayıyı bulan kod parçacığını yazar mısın?\n"
   ]
  },
  {
   "cell_type": "code",
   "execution_count": 2,
   "metadata": {},
   "outputs": [
    {
     "name": "stdout",
     "output_type": "stream",
     "text": [
      "[1, 2, 3, 4]\n",
      "En büyük sayı: 4\n"
     ]
    }
   ],
   "source": [
    "def find_largest_number(numbers):\n",
    "    #Verilen sayı dizisinin en büyük sayısını bulur.\n",
    "    if not numbers:\n",
    "        raise ValueError(\"Boş bir dizi verildi.\")\n",
    "    \n",
    "    largest = numbers[0]\n",
    "    for num in numbers:\n",
    "        if num > largest:\n",
    "            largest = num\n",
    "    return largest\n",
    "\n",
    "try:\n",
    "    user_input = input(\"Sayıları aralarında boşluk bırakarak girin: \")\n",
    "    number_list = [int(num) for num in user_input.split()]\n",
    "    print(number_list)\n",
    "    largest_number = find_largest_number(number_list)\n",
    "    print(f\"En büyük sayı: {largest_number}\")\n",
    "except ValueError:\n",
    "    print(\"Geçerli sayıları doğru formatta girdiğinizden emin olun.\")\n"
   ]
  }
 ],
 "metadata": {
  "kernelspec": {
   "display_name": "Python 3",
   "language": "python",
   "name": "python3"
  },
  "language_info": {
   "codemirror_mode": {
    "name": "ipython",
    "version": 3
   },
   "file_extension": ".py",
   "mimetype": "text/x-python",
   "name": "python",
   "nbconvert_exporter": "python",
   "pygments_lexer": "ipython3",
   "version": "3.11.4"
  },
  "orig_nbformat": 4
 },
 "nbformat": 4,
 "nbformat_minor": 2
}
