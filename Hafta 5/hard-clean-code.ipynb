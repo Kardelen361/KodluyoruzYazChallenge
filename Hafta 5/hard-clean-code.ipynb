{
 "cells": [
  {
   "cell_type": "markdown",
   "metadata": {},
   "source": [
    "Kullanıcının girdiği bir sayının tam bölenlerinin toplamını hesaplayan bir kod parçacığı yazınız.\n"
   ]
  },
  {
   "cell_type": "code",
   "execution_count": 9,
   "metadata": {},
   "outputs": [
    {
     "name": "stdout",
     "output_type": "stream",
     "text": [
      "45 sayısının tam bölenlerinin toplamı: 78\n"
     ]
    }
   ],
   "source": [
    "def calculate_divisor_sum(number):\n",
    "    #Verilen sayının tam bölenlerinin toplamını hesaplar.\n",
    "    if number <= 0:\n",
    "        raise ValueError(\"Pozitif bir sayı girilmelidir.\")\n",
    "    \n",
    "    divisor_sum = 0\n",
    "    for i in range(1, number + 1):\n",
    "        if number % i == 0:\n",
    "            divisor_sum += i\n",
    "    return divisor_sum \n",
    "\n",
    "try:\n",
    "    user_input = int(input(\"Tam bölenlerinin toplamını hesaplamak istediğiniz sayıyı girin: \"))\n",
    "    result = calculate_divisor_sum(user_input)\n",
    "    print(f\"{user_input} sayısının tam bölenlerinin toplamı: {result}\")\n",
    "except ValueError:\n",
    "    print(\"Lütfen geçerli bir sayı girin.\")\n"
   ]
  }
 ],
 "metadata": {
  "kernelspec": {
   "display_name": "Python 3",
   "language": "python",
   "name": "python3"
  },
  "language_info": {
   "codemirror_mode": {
    "name": "ipython",
    "version": 3
   },
   "file_extension": ".py",
   "mimetype": "text/x-python",
   "name": "python",
   "nbconvert_exporter": "python",
   "pygments_lexer": "ipython3",
   "version": "3.11.4"
  },
  "orig_nbformat": 4
 },
 "nbformat": 4,
 "nbformat_minor": 2
}
