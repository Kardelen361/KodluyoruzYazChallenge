{
 "cells": [
  {
   "cell_type": "markdown",
   "metadata": {},
   "source": [
    "Kullanıcının girdiği bir sayı karekökten çıkıyorsa çıktığı halini eğer çıkmıyorsa karekökten tam olarak çıkmıyor hata mesajı veren kod parçacığını yazar mısın?\n"
   ]
  },
  {
   "cell_type": "code",
   "execution_count": 3,
   "metadata": {},
   "outputs": [
    {
     "name": "stdout",
     "output_type": "stream",
     "text": [
      "Girdiğiniz sayı : 64.0\n",
      "Girdiğiniz sayının karekökü: 8\n"
     ]
    }
   ],
   "source": [
    "import math\n",
    "\n",
    "try:\n",
    "    user_input = float(input(\"Bir sayı girin: \"))\n",
    "    print(f\"Girdiğiniz sayı : {user_input}\")\n",
    "    if user_input >= 0:\n",
    "        square_root = math.sqrt(user_input)\n",
    "        if square_root.is_integer():\n",
    "            print(f\"Girdiğiniz sayının karekökü: {int(square_root)}\")\n",
    "        else:\n",
    "            print(\"Girdiğiniz sayının karekökü tam sayıya eşit değil.\")\n",
    "    else:\n",
    "        print(\"Negatif sayıların karekökü yoktur.\")\n",
    "except ValueError:\n",
    "    print(\"Geçerli bir sayı girin.\")\n"
   ]
  }
 ],
 "metadata": {
  "kernelspec": {
   "display_name": "Python 3",
   "language": "python",
   "name": "python3"
  },
  "language_info": {
   "codemirror_mode": {
    "name": "ipython",
    "version": 3
   },
   "file_extension": ".py",
   "mimetype": "text/x-python",
   "name": "python",
   "nbconvert_exporter": "python",
   "pygments_lexer": "ipython3",
   "version": "3.10.0"
  },
  "orig_nbformat": 4
 },
 "nbformat": 4,
 "nbformat_minor": 2
}
