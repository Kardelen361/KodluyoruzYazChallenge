{
 "cells": [
  {
   "cell_type": "markdown",
   "metadata": {},
   "source": [
    "Kullanıcıdan bir metin almanızı istiyorum. Bu metnin içindeki en çok tekrar eden harfi bulmalı ve kaç kere tekrar ettiğini göstermeli."
   ]
  },
  {
   "cell_type": "code",
   "execution_count": 1,
   "metadata": {},
   "outputs": [
    {
     "name": "stdout",
     "output_type": "stream",
     "text": [
      "En çok tekrar eden harf: y, Tekrar sayısı: 3\n"
     ]
    }
   ],
   "source": [
    "def en_cok_tekrar_eden_harf(metin):\n",
    "    # Türkçe harf ekleri ile birlikte Türkçe harfleri tanımlayalım\n",
    "    turkce_harfler = \"abcçdefgğhıijklmnoöprsştuüvyz\"\n",
    "    turkce_harfler = turkce_harfler + turkce_harfler.upper()  # Büyük harfleri de ekleyelim\n",
    "\n",
    "    # Metindeki harf frekanslarını tutmak için bir sözlük oluşturalım\n",
    "    harf_frekanslari = {}\n",
    "    # Metindeki harfleri gezerek frekansları hesaplayalım\n",
    "    for harf in metin:\n",
    "        # Harf büyük/küçük fark etmeksizin işlem yapılsın diye küçük harfe çeviriyoruz\n",
    "        harf = harf.lower()\n",
    "        if harf in turkce_harfler:  # Sadece Türkçe harf karakterlerini sayıyoruz\n",
    "            harf_frekanslari[harf] = harf_frekanslari.get(harf, 0) + 1\n",
    "\n",
    "    if not harf_frekanslari:\n",
    "        return None, 0\n",
    "# En çok tekrar eden harfi ve frekansını bulalım\n",
    "    en_cok_tekrar_eden_harf = max(harf_frekanslari, key=harf_frekanslari.get)\n",
    "    en_cok_tekrar_sayisi = harf_frekanslari[en_cok_tekrar_eden_harf]\n",
    "\n",
    "    return en_cok_tekrar_eden_harf, en_cok_tekrar_sayisi\n",
    "\n",
    "# Kullanıcıdan metin alalım\n",
    "metin = input(\"Metin girin: \")\n",
    "\n",
    "en_cok_tekrar_eden_harf, en_cok_tekrar_sayisi = en_cok_tekrar_eden_harf(metin)\n",
    "if en_cok_tekrar_eden_harf is not None:\n",
    "    print(f\"En çok tekrar eden harf: {en_cok_tekrar_eden_harf}, Tekrar sayısı: {en_cok_tekrar_sayisi}\")\n",
    "else:\n",
    "    print(\"Metinde hiç harf bulunamadı.\")\n"
   ]
  }
 ],
 "metadata": {
  "kernelspec": {
   "display_name": "Python 3",
   "language": "python",
   "name": "python3"
  },
  "language_info": {
   "codemirror_mode": {
    "name": "ipython",
    "version": 3
   },
   "file_extension": ".py",
   "mimetype": "text/x-python",
   "name": "python",
   "nbconvert_exporter": "python",
   "pygments_lexer": "ipython3",
   "version": "3.10.0"
  },
  "orig_nbformat": 4
 },
 "nbformat": 4,
 "nbformat_minor": 2
}
