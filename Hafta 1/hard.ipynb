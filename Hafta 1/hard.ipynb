{
 "cells": [
  {
   "cell_type": "markdown",
   "metadata": {},
   "source": [
    "Bir tam sayı dizisi oluşturmanı istiyorum. Kullanıcıdan aldığın hedef sayı doğrultusunda sayı dizisinin içinden sayılar seçip toplayarak hedef sayıya ulaşmasını sağlamalısın. Farklı farklı kombinasyonlar ile hedef sayıya ulaşıyor olman burada çok önemli!"
   ]
  },
  {
   "cell_type": "code",
   "execution_count": 6,
   "metadata": {},
   "outputs": [
    {
     "name": "stdout",
     "output_type": "stream",
     "text": [
      "Hedefe ulaşmak için kombinasyonlar:\n",
      "Hedefe ulaşıldı: [1, 1, 1, 1]\n",
      "Hedefe ulaşıldı: [1, 1, 2]\n",
      "Hedefe ulaşıldı: [1, 3]\n",
      "Hedefe ulaşıldı: [2, 2]\n"
     ]
    }
   ],
   "source": [
    "def hedefe_ulas(dizi, hedef, index, toplam, yol):\n",
    "    if toplam == hedef:\n",
    "        print(\"Hedefe ulaşıldı:\", yol)\n",
    "        return\n",
    "    if index == len(dizi):\n",
    "        return\n",
    "\n",
    "    # Mevcut sayıyı ekleyerek ilerle\n",
    "    if toplam + dizi[index] <= hedef:\n",
    "        hedefe_ulas(dizi, hedef, index, toplam + dizi[index], yol + [dizi[index]])\n",
    "\n",
    "    # Mevcut sayıyı eklemeden ilerle\n",
    "    hedefe_ulas(dizi, hedef, index + 1, toplam, yol)\n",
    "\n",
    "\n",
    "def main():\n",
    "    try:\n",
    "        dizi = list(map(int, input(\"Tam sayı dizisini girin (örn. 1 2 3): \").split()))\n",
    "        hedef = int(input(\"Hedef sayıyı girin: \"))\n",
    "        print(\"Hedefe ulaşmak için kombinasyonlar:\")\n",
    "        hedefe_ulas(dizi, hedef, 0, 0, [])\n",
    "    except ValueError:\n",
    "        print(\"Geçersiz giriş. Lütfen tam sayılarla bir dizi ve hedef sayı girin.\")\n",
    "\n",
    "\n",
    "if __name__ == \"__main__\":\n",
    "    main()"
   ]
  }
 ],
 "metadata": {
  "language_info": {
   "name": "python"
  },
  "orig_nbformat": 4
 },
 "nbformat": 4,
 "nbformat_minor": 2
}
